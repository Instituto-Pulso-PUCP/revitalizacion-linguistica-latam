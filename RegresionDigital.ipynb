{
 "cells": [
  {
   "cell_type": "code",
   "execution_count": 1,
   "metadata": {},
   "outputs": [],
   "source": [
    "import pandas as pd\n",
    "import numpy as np\n",
    "import matplotlib.pyplot as plt\n",
    "from math import sqrt\n",
    "import statsmodels.api as sm\n",
    "import statsmodels.formula.api as smf\n",
    "import seaborn as sns"
   ]
  },
  {
   "cell_type": "code",
   "execution_count": 2,
   "metadata": {},
   "outputs": [
    {
     "data": {
      "text/html": [
       "<div>\n",
       "<style scoped>\n",
       "    .dataframe tbody tr th:only-of-type {\n",
       "        vertical-align: middle;\n",
       "    }\n",
       "\n",
       "    .dataframe tbody tr th {\n",
       "        vertical-align: top;\n",
       "    }\n",
       "\n",
       "    .dataframe thead th {\n",
       "        text-align: right;\n",
       "    }\n",
       "</style>\n",
       "<table border=\"1\" class=\"dataframe\">\n",
       "  <thead>\n",
       "    <tr style=\"text-align: right;\">\n",
       "      <th></th>\n",
       "      <th>Year</th>\n",
       "      <th>Proyecto</th>\n",
       "      <th>País</th>\n",
       "      <th>Lengua</th>\n",
       "      <th>glottocode</th>\n",
       "      <th>isocode</th>\n",
       "      <th>Cine/TV</th>\n",
       "      <th>Redes sociales</th>\n",
       "      <th>Iniciativa estatal</th>\n",
       "      <th>Organización externa</th>\n",
       "      <th>...</th>\n",
       "      <th>Tecnología</th>\n",
       "      <th>Radio</th>\n",
       "      <th>Documentación</th>\n",
       "      <th>Elaboración de materiales educativos - libros</th>\n",
       "      <th>Fomenta el uso de la lengua</th>\n",
       "      <th>Enseña la lengua</th>\n",
       "      <th>Público objetivo (niños, jóvenes, adultos, todos)</th>\n",
       "      <th>Proyecto alternativos: nidos, cursos de lengua, otros</th>\n",
       "      <th>Familia</th>\n",
       "      <th>Hablantes</th>\n",
       "    </tr>\n",
       "  </thead>\n",
       "  <tbody>\n",
       "    <tr>\n",
       "      <th>0</th>\n",
       "      <td>2011</td>\n",
       "      <td>Auto-documentación lingüística Jodï</td>\n",
       "      <td>Venezuela</td>\n",
       "      <td>Hoti</td>\n",
       "      <td>yuwa1244</td>\n",
       "      <td>yau</td>\n",
       "      <td>0</td>\n",
       "      <td>0</td>\n",
       "      <td>0</td>\n",
       "      <td>0</td>\n",
       "      <td>...</td>\n",
       "      <td>0</td>\n",
       "      <td>0</td>\n",
       "      <td>1</td>\n",
       "      <td>1</td>\n",
       "      <td>0</td>\n",
       "      <td>0</td>\n",
       "      <td>Todos</td>\n",
       "      <td>-</td>\n",
       "      <td>-</td>\n",
       "      <td>1500</td>\n",
       "    </tr>\n",
       "    <tr>\n",
       "      <th>1</th>\n",
       "      <td>2013</td>\n",
       "      <td>Rama Language Project</td>\n",
       "      <td>Nicaragua</td>\n",
       "      <td>Rama</td>\n",
       "      <td>rama1270</td>\n",
       "      <td>rma</td>\n",
       "      <td>0</td>\n",
       "      <td>0</td>\n",
       "      <td>0</td>\n",
       "      <td>0</td>\n",
       "      <td>...</td>\n",
       "      <td>0</td>\n",
       "      <td>0</td>\n",
       "      <td>1</td>\n",
       "      <td>1</td>\n",
       "      <td>1</td>\n",
       "      <td>0</td>\n",
       "      <td>Todos</td>\n",
       "      <td>-</td>\n",
       "      <td>Chibchan</td>\n",
       "      <td>740</td>\n",
       "    </tr>\n",
       "    <tr>\n",
       "      <th>2</th>\n",
       "      <td>2023</td>\n",
       "      <td>Aún nuestra lengua vive: fogatas nahuas móvile...</td>\n",
       "      <td>México</td>\n",
       "      <td>Tlaxcala-Puebla-Central Nahuatl</td>\n",
       "      <td>cent2132</td>\n",
       "      <td>nhn</td>\n",
       "      <td>0</td>\n",
       "      <td>0</td>\n",
       "      <td>0</td>\n",
       "      <td>0</td>\n",
       "      <td>...</td>\n",
       "      <td>0</td>\n",
       "      <td>0</td>\n",
       "      <td>0</td>\n",
       "      <td>0</td>\n",
       "      <td>1</td>\n",
       "      <td>1</td>\n",
       "      <td>Todos</td>\n",
       "      <td>Uso de lengua en comunidad</td>\n",
       "      <td>Uto-Aztecan</td>\n",
       "      <td>40000</td>\n",
       "    </tr>\n",
       "    <tr>\n",
       "      <th>3</th>\n",
       "      <td>2023</td>\n",
       "      <td>Inadea (proyectos varios: charlas, cursos de s...</td>\n",
       "      <td>Perú</td>\n",
       "      <td>Huaylay</td>\n",
       "      <td>huay1239</td>\n",
       "      <td>-</td>\n",
       "      <td>0</td>\n",
       "      <td>0</td>\n",
       "      <td>0</td>\n",
       "      <td>0</td>\n",
       "      <td>...</td>\n",
       "      <td>0</td>\n",
       "      <td>0</td>\n",
       "      <td>0</td>\n",
       "      <td>1</td>\n",
       "      <td>0</td>\n",
       "      <td>1</td>\n",
       "      <td>Todos</td>\n",
       "      <td>-</td>\n",
       "      <td>Quechuan</td>\n",
       "      <td>587520</td>\n",
       "    </tr>\n",
       "    <tr>\n",
       "      <th>4</th>\n",
       "      <td>2020</td>\n",
       "      <td>Micronoticiero Letras TV Willakun</td>\n",
       "      <td>Perú</td>\n",
       "      <td>Ayacucho Quechua</td>\n",
       "      <td>ayac1239</td>\n",
       "      <td>quy</td>\n",
       "      <td>1</td>\n",
       "      <td>1</td>\n",
       "      <td>0</td>\n",
       "      <td>0</td>\n",
       "      <td>...</td>\n",
       "      <td>1</td>\n",
       "      <td>0</td>\n",
       "      <td>0</td>\n",
       "      <td>0</td>\n",
       "      <td>1</td>\n",
       "      <td>0</td>\n",
       "      <td>Todos</td>\n",
       "      <td>-</td>\n",
       "      <td>Quechuan</td>\n",
       "      <td>1270000</td>\n",
       "    </tr>\n",
       "  </tbody>\n",
       "</table>\n",
       "<p>5 rows × 23 columns</p>\n",
       "</div>"
      ],
      "text/plain": [
       "   Year                                           Proyecto       País  \\\n",
       "0  2011                Auto-documentación lingüística Jodï  Venezuela   \n",
       "1  2013                              Rama Language Project  Nicaragua   \n",
       "2  2023  Aún nuestra lengua vive: fogatas nahuas móvile...     México   \n",
       "3  2023  Inadea (proyectos varios: charlas, cursos de s...       Perú   \n",
       "4  2020                  Micronoticiero Letras TV Willakun       Perú   \n",
       "\n",
       "                            Lengua glottocode isocode  Cine/TV  \\\n",
       "0                             Hoti   yuwa1244     yau        0   \n",
       "1                             Rama   rama1270     rma        0   \n",
       "2  Tlaxcala-Puebla-Central Nahuatl   cent2132     nhn        0   \n",
       "3                          Huaylay   huay1239       -        0   \n",
       "4                 Ayacucho Quechua   ayac1239     quy        1   \n",
       "\n",
       "   Redes sociales  Iniciativa estatal  Organización externa  ...  Tecnología  \\\n",
       "0               0                   0                     0  ...           0   \n",
       "1               0                   0                     0  ...           0   \n",
       "2               0                   0                     0  ...           0   \n",
       "3               0                   0                     0  ...           0   \n",
       "4               1                   0                     0  ...           1   \n",
       "\n",
       "   Radio  Documentación  Elaboración de materiales educativos - libros  \\\n",
       "0      0              1                                              1   \n",
       "1      0              1                                              1   \n",
       "2      0              0                                              0   \n",
       "3      0              0                                              1   \n",
       "4      0              0                                              0   \n",
       "\n",
       "   Fomenta el uso de la lengua  Enseña la lengua  \\\n",
       "0                            0                 0   \n",
       "1                            1                 0   \n",
       "2                            1                 1   \n",
       "3                            0                 1   \n",
       "4                            1                 0   \n",
       "\n",
       "   Público objetivo (niños, jóvenes, adultos, todos)  \\\n",
       "0                                              Todos   \n",
       "1                                              Todos   \n",
       "2                                              Todos   \n",
       "3                                              Todos   \n",
       "4                                              Todos   \n",
       "\n",
       "   Proyecto alternativos: nidos, cursos de lengua, otros      Familia  \\\n",
       "0                                                  -                -   \n",
       "1                                                  -         Chibchan   \n",
       "2                         Uso de lengua en comunidad      Uto-Aztecan   \n",
       "3                                                  -         Quechuan   \n",
       "4                                                  -         Quechuan   \n",
       "\n",
       "  Hablantes  \n",
       "0      1500  \n",
       "1       740  \n",
       "2     40000  \n",
       "3    587520  \n",
       "4   1270000  \n",
       "\n",
       "[5 rows x 23 columns]"
      ]
     },
     "execution_count": 2,
     "metadata": {},
     "output_type": "execute_result"
    }
   ],
   "source": [
    "df_proyectos = pd.read_csv('../analisis/Proyectos_final.csv')\n",
    "\n",
    "#Drop Title, ArticleURL columns\n",
    "df_proyectos.drop(['Title', 'ArticleURL'], axis=1, inplace=True)\n",
    "df_proyectos.drop_duplicates(subset=['Proyecto'], inplace=True)\n",
    "df_proyectos.head()"
   ]
  },
  {
   "cell_type": "code",
   "execution_count": 3,
   "metadata": {},
   "outputs": [],
   "source": [
    "df_proyectos['Digital'] = df_proyectos['Redes sociales'] + df_proyectos['Tecnología']\n",
    "df_proyectos['Digital'] = df_proyectos['Digital'].apply(lambda x: 1 if x > 0 else 0)\n",
    "\n",
    "df_proyectos['NonDigital'] = df_proyectos['Digital'].apply(lambda x: 0 if x == 1 else 1)\n",
    "\n",
    "df_proyectos = df_proyectos[['Year', 'Proyecto', 'Digital', 'NonDigital']]"
   ]
  },
  {
   "cell_type": "code",
   "execution_count": 102,
   "metadata": {},
   "outputs": [
    {
     "data": {
      "text/html": [
       "<div>\n",
       "<style scoped>\n",
       "    .dataframe tbody tr th:only-of-type {\n",
       "        vertical-align: middle;\n",
       "    }\n",
       "\n",
       "    .dataframe tbody tr th {\n",
       "        vertical-align: top;\n",
       "    }\n",
       "\n",
       "    .dataframe thead th {\n",
       "        text-align: right;\n",
       "    }\n",
       "</style>\n",
       "<table border=\"1\" class=\"dataframe\">\n",
       "  <thead>\n",
       "    <tr style=\"text-align: right;\">\n",
       "      <th></th>\n",
       "      <th>Year</th>\n",
       "      <th>Proyecto</th>\n",
       "      <th>Digital</th>\n",
       "      <th>NonDigital</th>\n",
       "    </tr>\n",
       "  </thead>\n",
       "  <tbody>\n",
       "    <tr>\n",
       "      <th>0</th>\n",
       "      <td>2011</td>\n",
       "      <td>Auto-documentación lingüística Jodï</td>\n",
       "      <td>0</td>\n",
       "      <td>1</td>\n",
       "    </tr>\n",
       "    <tr>\n",
       "      <th>1</th>\n",
       "      <td>2013</td>\n",
       "      <td>Rama Language Project</td>\n",
       "      <td>0</td>\n",
       "      <td>1</td>\n",
       "    </tr>\n",
       "    <tr>\n",
       "      <th>2</th>\n",
       "      <td>2023</td>\n",
       "      <td>Aún nuestra lengua vive: fogatas nahuas móvile...</td>\n",
       "      <td>0</td>\n",
       "      <td>1</td>\n",
       "    </tr>\n",
       "    <tr>\n",
       "      <th>3</th>\n",
       "      <td>2023</td>\n",
       "      <td>Inadea (proyectos varios: charlas, cursos de s...</td>\n",
       "      <td>0</td>\n",
       "      <td>1</td>\n",
       "    </tr>\n",
       "    <tr>\n",
       "      <th>4</th>\n",
       "      <td>2020</td>\n",
       "      <td>Micronoticiero Letras TV Willakun</td>\n",
       "      <td>1</td>\n",
       "      <td>0</td>\n",
       "    </tr>\n",
       "  </tbody>\n",
       "</table>\n",
       "</div>"
      ],
      "text/plain": [
       "   Year                                           Proyecto  Digital  \\\n",
       "0  2011                Auto-documentación lingüística Jodï        0   \n",
       "1  2013                              Rama Language Project        0   \n",
       "2  2023  Aún nuestra lengua vive: fogatas nahuas móvile...        0   \n",
       "3  2023  Inadea (proyectos varios: charlas, cursos de s...        0   \n",
       "4  2020                  Micronoticiero Letras TV Willakun        1   \n",
       "\n",
       "   NonDigital  \n",
       "0           1  \n",
       "1           1  \n",
       "2           1  \n",
       "3           1  \n",
       "4           0  "
      ]
     },
     "execution_count": 102,
     "metadata": {},
     "output_type": "execute_result"
    }
   ],
   "source": [
    "df_proyectos.head()"
   ]
  },
  {
   "cell_type": "code",
   "execution_count": 4,
   "metadata": {},
   "outputs": [],
   "source": [
    "total_proyectos = df_proyectos.groupby('Year').size()\n",
    "\n",
    "num_proyectos_year = df_proyectos.groupby('Year')[['Digital', 'NonDigital']].sum()\n",
    "num_proyectos_year.to_csv('Num_digital_proyectos_year.csv')"
   ]
  },
  {
   "cell_type": "code",
   "execution_count": 5,
   "metadata": {},
   "outputs": [],
   "source": [
    "if True:\n",
    "    i=-2\n",
    "    df_num_proyectos=num_proyectos_year[:i]"
   ]
  },
  {
   "cell_type": "code",
   "execution_count": 6,
   "metadata": {},
   "outputs": [
    {
     "data": {
      "image/png": "[encoded data removed]",
      "text/plain": [
       "<Figure size 640x480 with 1 Axes>"
      ]
     },
     "metadata": {},
     "output_type": "display_data"
    }
   ],
   "source": [
    "df_mean_5 = df_num_proyectos.rolling(5).mean().dropna()\n",
    "df_mean_5.plot()\n",
    "plt.title('5-Year Rolling Mean')\n",
    "plt.show()"
   ]
  },
  {
   "cell_type": "code",
   "execution_count": 7,
   "metadata": {},
   "outputs": [],
   "source": [
    "df_mean_expanded = pd.DataFrame(columns=['Year', 'Category', 'Value'])\n",
    "for year in df_mean_5.index:\n",
    "    for column in df_mean_5.columns[:3]:\n",
    "        df_mean_expanded.loc[len(df_mean_expanded)] = [year, column, df_mean_5.loc[year, column]]"
   ]
  },
  {
   "cell_type": "markdown",
   "metadata": {},
   "source": [
    "# Modelo inicial"
   ]
  },
  {
   "cell_type": "code",
   "execution_count": 8,
   "metadata": {},
   "outputs": [
    {
     "data": {
      "image/png": "[encoded data removed]",
      "text/plain": [
       "<Figure size 640x480 with 1 Axes>"
      ]
     },
     "metadata": {},
     "output_type": "display_data"
    }
   ],
   "source": [
    "df_mean_expanded['Value'].hist(bins=20)\n",
    "plt.title('Histogram of Project Counts')\n",
    "plt.show()"
   ]
  },
  {
   "cell_type": "code",
   "execution_count": 9,
   "metadata": {},
   "outputs": [],
   "source": [
    "df_num_proyectos_by_year = pd.DataFrame(columns=['Year', 'Value'])\n",
    "for year in df_num_proyectos.index:\n",
    "    df_num_proyectos_by_year.loc[len(df_num_proyectos_by_year)] = [year, df_num_proyectos.loc[year].sum()]"
   ]
  },
  {
   "cell_type": "code",
   "execution_count": 10,
   "metadata": {},
   "outputs": [],
   "source": [
    "#Create exposure variable. Foe each row in df_mean_expanded, the exposure will be the value of df_num_proyectos_by_year for the corresponding year\n",
    "df_mean_expanded['Exposure'] = 0\n",
    "for i in range(len(df_mean_expanded)):\n",
    "    year = df_mean_expanded.loc[i, 'Year']\n",
    "    df_mean_expanded.loc[i, 'Exposure'] = df_num_proyectos_by_year[df_num_proyectos_by_year['Year'] == year]['Value'].values[0]"
   ]
  },
  {
   "cell_type": "code",
   "execution_count": 11,
   "metadata": {},
   "outputs": [
    {
     "name": "stdout",
     "output_type": "stream",
     "text": [
      "                 Generalized Linear Model Regression Results                  \n",
      "==============================================================================\n",
      "Dep. Variable:                  Value   No. Observations:                   22\n",
      "Model:                            GLM   Df Residuals:                       19\n",
      "Model Family:                 Poisson   Df Model:                            2\n",
      "Link Function:                    Log   Scale:                          1.0000\n",
      "Method:                          IRLS   Log-Likelihood:                -57.687\n",
      "Date:                Thu, 16 May 2024   Deviance:                       37.442\n",
      "Time:                        10:18:42   Pearson chi2:                     33.3\n",
      "No. Iterations:                     5   Pseudo R-squ. (CS):             0.9998\n",
      "Covariance Type:            nonrobust                                         \n",
      "==========================================================================================\n",
      "                             coef    std err          z      P>|z|      [0.025      0.975]\n",
      "------------------------------------------------------------------------------------------\n",
      "Intercept               -637.2507     53.271    -11.962      0.000    -741.661    -532.841\n",
      "Category[T.NonDigital]     0.0975      0.129      0.758      0.448      -0.155       0.350\n",
      "Year                       0.3170      0.026     12.014      0.000       0.265       0.369\n",
      "==========================================================================================\n"
     ]
    }
   ],
   "source": [
    "poisson_glm = smf.glm('Value ~ Year + Category', data=df_mean_expanded, family=sm.families.Poisson()).fit()\n",
    "print(poisson_glm.summary())"
   ]
  },
  {
   "cell_type": "code",
   "execution_count": 12,
   "metadata": {},
   "outputs": [
    {
     "name": "stdout",
     "output_type": "stream",
     "text": [
      "Variance: 110.7865800865801\n",
      "Mean: 11.009090909090908\n",
      "Variance/Mean: 10.06319059415674\n"
     ]
    }
   ],
   "source": [
    "#Probamos equidispersion\n",
    "print('Variance:',df_mean_expanded['Value'].var())\n",
    "print('Mean:',df_mean_expanded['Value'].mean())\n",
    "print('Variance/Mean:',df_mean_expanded['Value'].var()/df_mean_expanded['Value'].mean())"
   ]
  },
  {
   "cell_type": "markdown",
   "metadata": {},
   "source": [
    "Para tratar la sobredispersión se usará una regresión binomial negativa. Calculamos primero el parámetro alfa a usar"
   ]
  },
  {
   "cell_type": "code",
   "execution_count": 14,
   "metadata": {},
   "outputs": [
    {
     "name": "stdout",
     "output_type": "stream",
     "text": [
      "Lambda    0.052161\n",
      "dtype: float64\n"
     ]
    }
   ],
   "source": [
    "df_mean_expanded['Lambda'] = poisson_glm.mu\n",
    "df_mean_expanded['AUX_OLS'] = df_mean_expanded.apply(lambda x: ((x['Value'] - x['Lambda'])**2 - x['Lambda']) / x['Lambda'], axis=1)\n",
    "ols_expr = \"\"\"AUX_OLS ~ Lambda - 1\"\"\"\n",
    "aux_olsr_results = smf.ols(ols_expr, df_mean_expanded).fit()\n",
    "print(aux_olsr_results.params)  "
   ]
  },
  {
   "cell_type": "code",
   "execution_count": 15,
   "metadata": {},
   "outputs": [
    {
     "name": "stdout",
     "output_type": "stream",
     "text": [
      "Lambda    2.283979\n",
      "dtype: float64\n",
      "19\n",
      "The alpha parameter is significant\n"
     ]
    }
   ],
   "source": [
    "print(aux_olsr_results.tvalues)\n",
    "print(poisson_glm.df_resid)\n",
    "\n",
    "#T-Value (right-tailed): 1.669402\n",
    "degrees_of_freedom = poisson_glm.df_resid\n",
    "from scipy.stats import t\n",
    "alpha = 0.05\n",
    "t_to_compare=t.ppf(1-alpha, degrees_of_freedom)\n",
    "\n",
    "if aux_olsr_results.tvalues[0] > t_to_compare:\n",
    "    print('The alpha parameter is significant')\n",
    "else:\n",
    "    print('The alpha parameter is not significant')\n",
    "\n",
    "alpha = aux_olsr_results.params[0]"
   ]
  },
  {
   "cell_type": "markdown",
   "metadata": {},
   "source": [
    "# Binomial negativa"
   ]
  },
  {
   "cell_type": "code",
   "execution_count": 16,
   "metadata": {},
   "outputs": [
    {
     "name": "stdout",
     "output_type": "stream",
     "text": [
      "                 Generalized Linear Model Regression Results                  \n",
      "==============================================================================\n",
      "Dep. Variable:                  Value   No. Observations:                   22\n",
      "Model:                            GLM   Df Residuals:                       19\n",
      "Model Family:        NegativeBinomial   Df Model:                            2\n",
      "Link Function:                    Log   Scale:                          1.0000\n",
      "Method:                          IRLS   Log-Likelihood:                -55.041\n",
      "Date:                Thu, 16 May 2024   Deviance:                       23.316\n",
      "Time:                        10:19:02   Pearson chi2:                     19.9\n",
      "No. Iterations:                     8   Pseudo R-squ. (CS):             0.9970\n",
      "Covariance Type:            nonrobust                                         \n",
      "==========================================================================================\n",
      "                             coef    std err          z      P>|z|      [0.025      0.975]\n",
      "------------------------------------------------------------------------------------------\n",
      "Intercept               -692.0088     68.293    -10.133      0.000    -825.861    -558.156\n",
      "Category[T.NonDigital]     0.2899      0.178      1.629      0.103      -0.059       0.639\n",
      "Year                       0.3441      0.034     10.169      0.000       0.278       0.410\n",
      "==========================================================================================\n"
     ]
    }
   ],
   "source": [
    "alpha=aux_olsr_results.params[0]\n",
    "nbinomial_glm = smf.glm('Value ~ Year + Category', data=df_mean_expanded, family=sm.families.NegativeBinomial(alpha=alpha)).fit()\n",
    "print(nbinomial_glm.summary())"
   ]
  },
  {
   "cell_type": "code",
   "execution_count": 18,
   "metadata": {},
   "outputs": [
    {
     "name": "stdout",
     "output_type": "stream",
     "text": [
      "Overdispersion test\n",
      "\n",
      "dispersion ratio = 1.0474907468999384\n",
      "Pearson's Chi-Squared = 19.90232419109883\n",
      "p-value = 0.4004771520694239\n",
      "Model is not overdispersed\n"
     ]
    }
   ],
   "source": [
    "# Calculate Pearson's chi-squared statistic\n",
    "from scipy import stats\n",
    "\n",
    "\n",
    "pearson_chi2 = np.sum(nbinomial_glm.resid_pearson**2)\n",
    "\n",
    "# Calculate degrees of freedom\n",
    "df = len(nbinomial_glm.resid_pearson) - len(nbinomial_glm.params)\n",
    "\n",
    "# Calculate dispersion ratio\n",
    "dispersion_ratio = pearson_chi2 / df\n",
    "\n",
    "# Calculate p-value\n",
    "p_value = 1 - stats.chi2.cdf(pearson_chi2, df)\n",
    "\n",
    "# Print results\n",
    "print('Overdispersion test\\n')\n",
    "print('dispersion ratio =', dispersion_ratio)\n",
    "print(\"Pearson's Chi-Squared =\", pearson_chi2)\n",
    "print('p-value =', p_value)\n",
    "\n",
    "# Check for overdispersion\n",
    "if p_value < 0.05:\n",
    "    print('Model is overdispersed')\n",
    "else:\n",
    "    print('Model is not overdispersed')"
   ]
  },
  {
   "cell_type": "code",
   "execution_count": 19,
   "metadata": {},
   "outputs": [
    {
     "name": "stdout",
     "output_type": "stream",
     "text": [
      "Naive RMSE for Digital: 12.35218721221549\n",
      "Naive RMSE for NonDigital: 7.63870094100533\n"
     ]
    }
   ],
   "source": [
    "from sklearn.metrics import mean_squared_error\n",
    "\n",
    "df_naive_mean = df_mean_5.copy()\n",
    "\n",
    "for column in df_num_proyectos.columns:\n",
    "    df_naive_mean[column] = df_naive_mean[column].mean()\n",
    "\n",
    "    # Get the actual and forecasted values\n",
    "    actual = df_mean_5[column].values\n",
    "    naive_mean = df_naive_mean[column].values\n",
    "    \n",
    "    # Calculate and print the RMSE\n",
    "    rmse = sqrt(mean_squared_error(actual, naive_mean))\n",
    "    print(f'Naive RMSE for {column}: {rmse}')"
   ]
  },
  {
   "cell_type": "markdown",
   "metadata": {},
   "source": [
    "### compara modelos"
   ]
  },
  {
   "cell_type": "code",
   "execution_count": 20,
   "metadata": {},
   "outputs": [
    {
     "name": "stdout",
     "output_type": "stream",
     "text": [
      "Poisson model AIC: 121.37402397745265\n",
      "Poisson model BIC: -21.287333503372125\n",
      "Negative Binomial model AIC: 116.08110026212599\n",
      "Negative Binomial model BIC: -35.413627630902674\n"
     ]
    },
    {
     "name": "stderr",
     "output_type": "stream",
     "text": [
      "c:\\Users\\amy22\\AppData\\Local\\Programs\\Python\\Python311\\Lib\\site-packages\\statsmodels\\genmod\\generalized_linear_model.py:1838: FutureWarning: The bic value is computed using the deviance formula. After 0.13 this will change to the log-likelihood based formula. This change has no impact on the relative rank of models compared using BIC. You can directly access the log-likelihood version using the `bic_llf` attribute. You can suppress this message by calling statsmodels.genmod.generalized_linear_model.SET_USE_BIC_LLF with True to get the LLF-based version now or False to retainthe deviance version.\n",
      "  warnings.warn(\n"
     ]
    }
   ],
   "source": [
    "# Print AIC and BIC for Poisson model\n",
    "print('Poisson model AIC:', poisson_glm.aic)\n",
    "print('Poisson model BIC:', poisson_glm.bic)\n",
    "\n",
    "# Print AIC and BIC for Negative Binomial model\n",
    "print('Negative Binomial model AIC:', nbinomial_glm.aic)\n",
    "print('Negative Binomial model BIC:', nbinomial_glm.bic)"
   ]
  },
  {
   "cell_type": "markdown",
   "metadata": {},
   "source": [
    "## Predicciones"
   ]
  },
  {
   "cell_type": "code",
   "execution_count": 21,
   "metadata": {},
   "outputs": [],
   "source": [
    "df_mean_expanded.reset_index(inplace=True)\n",
    "df_mean_expanded['Predicted'] = nbinomial_glm.predict(df_mean_expanded)\n",
    "df_mean_expanded['Residuals'] = df_mean_expanded['Value'] - df_mean_expanded['Predicted']"
   ]
  },
  {
   "cell_type": "code",
   "execution_count": 119,
   "metadata": {},
   "outputs": [
    {
     "data": {
      "image/png": "[encoded data removed]",
      "text/plain": [
       "<Figure size 640x480 with 1 Axes>"
      ]
     },
     "metadata": {},
     "output_type": "display_data"
    }
   ],
   "source": [
    "# Set 'Year' as the index\n",
    "# df_mean_expanded.set_index('Year', inplace=True)\n",
    "\n",
    "# Plot actual vs predicted project counts\n",
    "df_mean_expanded[df_mean_expanded['Category']=='Digital'][['Value','Predicted']].plot()\n",
    "plt.title('Actual vs Predicted Project 5-year means for Iniciativa estatal by Year')\n",
    "plt.xlabel('Year')\n",
    "plt.ylabel('Project Counts')\n",
    "\n",
    "plt.show()"
   ]
  },
  {
   "cell_type": "code",
   "execution_count": 22,
   "metadata": {},
   "outputs": [
    {
     "name": "stdout",
     "output_type": "stream",
     "text": [
      "RMSE for Digital: 3.880644878763953\n",
      "RMSE for NonDigital: 7.708781072658196\n"
     ]
    }
   ],
   "source": [
    "# get rmse for each prediction\n",
    "for column in df_num_proyectos.columns:\n",
    "    actual = df_mean_expanded[df_mean_expanded['Category']==column]['Value']\n",
    "    predicted = df_mean_expanded[df_mean_expanded['Category']==column]['Predicted']\n",
    "    rmse = sqrt(mean_squared_error(actual, predicted))\n",
    "    print(f'RMSE for {column}: {rmse}')"
   ]
  },
  {
   "cell_type": "code",
   "execution_count": 23,
   "metadata": {},
   "outputs": [],
   "source": [
    "df_future = pd.DataFrame(columns=['Year', 'Category'])\n",
    "for year in range(2019,2028):\n",
    "    for column in df_num_proyectos.columns[:4]:\n",
    "        df_future.loc[len(df_future)] = [year, column]\n",
    "\n",
    "df_future['Predicted'] = nbinomial_glm.predict(df_future)\n",
    "df_future.set_index('Year', inplace=True)"
   ]
  },
  {
   "cell_type": "code",
   "execution_count": 24,
   "metadata": {},
   "outputs": [
    {
     "data": {
      "image/png": "[encoded data removed]",
      "text/plain": [
       "<Figure size 1200x600 with 1 Axes>"
      ]
     },
     "metadata": {},
     "output_type": "display_data"
    }
   ],
   "source": [
    "# Set the color palette to 'husl'\n",
    "sns.set_palette('husl')\n",
    "fig = plt.figure(figsize=(12, 6))\n",
    "\n",
    "# Plot the future predictions for Category Digital\n",
    "sns.lineplot(x=df_future[df_future['Category']=='Digital'].index, y='Predicted', data=df_future[df_future['Category']=='Digital'])\n",
    "\n",
    "plt.title('Predicted Digital Project Mean by Year')\n",
    "plt.xlabel('Year')\n",
    "plt.ylabel('5-year mean of project counts')\n",
    "plt.savefig('../plots/predicted_digital_project_mean_by_year.png', dpi=300, bbox_inches='tight')\n",
    "plt.show()"
   ]
  },
  {
   "cell_type": "code",
   "execution_count": null,
   "metadata": {},
   "outputs": [],
   "source": []
  }
 ],
 "metadata": {
  "kernelspec": {
   "display_name": "Python 3",
   "language": "python",
   "name": "python3"
  },
  "language_info": {
   "codemirror_mode": {
    "name": "ipython",
    "version": 3
   },
   "file_extension": ".py",
   "mimetype": "text/x-python",
   "name": "python",
   "nbconvert_exporter": "python",
   "pygments_lexer": "ipython3",
   "version": "3.11.4"
  }
 },
 "nbformat": 4,
 "nbformat_minor": 2
}
