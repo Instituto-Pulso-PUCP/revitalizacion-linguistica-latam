{
 "cells": [
  {
   "cell_type": "code",
   "execution_count": 3,
   "metadata": {},
   "outputs": [
    {
     "data": {
      "text/html": [
       "<div>\n",
       "<style scoped>\n",
       "    .dataframe tbody tr th:only-of-type {\n",
       "        vertical-align: middle;\n",
       "    }\n",
       "\n",
       "    .dataframe tbody tr th {\n",
       "        vertical-align: top;\n",
       "    }\n",
       "\n",
       "    .dataframe thead th {\n",
       "        text-align: right;\n",
       "    }\n",
       "</style>\n",
       "<table border=\"1\" class=\"dataframe\">\n",
       "  <thead>\n",
       "    <tr style=\"text-align: right;\">\n",
       "      <th></th>\n",
       "      <th>Year</th>\n",
       "      <th>ArticleTitle</th>\n",
       "      <th>Project</th>\n",
       "      <th>Country</th>\n",
       "      <th>Language</th>\n",
       "      <th>glottocode</th>\n",
       "      <th>isocode</th>\n",
       "      <th>Cinema/TV</th>\n",
       "      <th>Social media</th>\n",
       "      <th>State initiative</th>\n",
       "      <th>...</th>\n",
       "      <th>Universities and institutes</th>\n",
       "      <th>Community</th>\n",
       "      <th>Music</th>\n",
       "      <th>Technology</th>\n",
       "      <th>Radio</th>\n",
       "      <th>Documentation</th>\n",
       "      <th>Books and educational material</th>\n",
       "      <th>Teaches the language</th>\n",
       "      <th>Family</th>\n",
       "      <th>Speakers</th>\n",
       "    </tr>\n",
       "  </thead>\n",
       "  <tbody>\n",
       "    <tr>\n",
       "      <th>0</th>\n",
       "      <td>2011</td>\n",
       "      <td>Auto-documentación Lingüística': La experienc...</td>\n",
       "      <td>Auto-documentación lingüística Jodï</td>\n",
       "      <td>Venezuela</td>\n",
       "      <td>Hoti</td>\n",
       "      <td>yuwa1244</td>\n",
       "      <td>yau</td>\n",
       "      <td>0</td>\n",
       "      <td>0</td>\n",
       "      <td>0</td>\n",
       "      <td>...</td>\n",
       "      <td>1</td>\n",
       "      <td>0</td>\n",
       "      <td>0</td>\n",
       "      <td>0</td>\n",
       "      <td>0</td>\n",
       "      <td>1</td>\n",
       "      <td>1</td>\n",
       "      <td>0</td>\n",
       "      <td>-</td>\n",
       "      <td>1500</td>\n",
       "    </tr>\n",
       "  </tbody>\n",
       "</table>\n",
       "<p>1 rows × 21 columns</p>\n",
       "</div>"
      ],
      "text/plain": [
       "   Year                                       ArticleTitle  \\\n",
       "0  2011  Auto-documentación Lingüística': La experienc...   \n",
       "\n",
       "                               Project    Country Language glottocode isocode  \\\n",
       "0  Auto-documentación lingüística Jodï  Venezuela     Hoti   yuwa1244     yau   \n",
       "\n",
       "   Cinema/TV  Social media  State initiative  ...  \\\n",
       "0          0             0                 0  ...   \n",
       "\n",
       "   Universities and institutes  Community  Music  Technology  Radio  \\\n",
       "0                            1          0      0           0      0   \n",
       "\n",
       "   Documentation  Books and educational material  Teaches the language  \\\n",
       "0              1                               1                     0   \n",
       "\n",
       "   Family Speakers  \n",
       "0       -     1500  \n",
       "\n",
       "[1 rows x 21 columns]"
      ]
     },
     "execution_count": 3,
     "metadata": {},
     "output_type": "execute_result"
    }
   ],
   "source": [
    "import pandas as pd\n",
    "\n",
    "df=pd.read_csv('data/translated.csv', encoding='utf-8')\n",
    "df.head(1)"
   ]
  },
  {
   "cell_type": "code",
   "execution_count": 4,
   "metadata": {},
   "outputs": [],
   "source": [
    "origins=['State initiative', 'External organization', 'Universities and institutes', 'Community']\n",
    "#df['MainActor']= should be the column in origins that has the highest value (1) in the row\n",
    "df['MainActor']= df[origins].idxmax(axis=1)"
   ]
  },
  {
   "cell_type": "code",
   "execution_count": 27,
   "metadata": {},
   "outputs": [
    {
     "name": "stdout",
     "output_type": "stream",
     "text": [
      "Table created in data/table.tex\n"
     ]
    }
   ],
   "source": [
    "import unicodedata\n",
    "columnsToPrint = ['Year', 'ArticleTitle', 'Project', 'Country', 'MainActor', 'Language', 'Family', 'Speakers']\n",
    "escapingDict = {\n",
    "    'á': '\\\\\\'a', 'ä': '\\\\\"a', 'Á' : '\\\\\\'A', 'Ä' : '\\\\\"A',\n",
    "    'é' : '\\\\\\'e','É' : '\\\\\\'E', 'ë': '\\\\\"e', 'Ë': '\\\\\"E',\n",
    "    'í' : '\\\\\\'i', 'Í' : '\\\\\\'I',  'ï': '\\\\\\\"i', 'Ï': '\\\\\\\"I',\n",
    "    'ó' : '\\\\\\'o','Ó' : '\\\\\\'O', 'ö' : '\\\\\"o', 'Ö' : '\\\\\"O',  \n",
    "    'ú' : '\\\\\\'u',   'Ú' : '\\\\\\'U',  'ü' : '\\\\\"u', 'Ü' : '\\\\\"U ', \n",
    "}\n",
    "\n",
    "with open('data/table.tex', 'w', encoding='utf-8') as f:\n",
    "    for row in df.iterrows():\n",
    "        # Create a row like this: Year & Article Title & Project & Country & Main Actor & Language & Family & Speakers \\\\ \\hline\n",
    "        row_text = \"\"\n",
    "        for column in columnsToPrint:\n",
    "            text = str(row[1][column])\n",
    "            # Normalize text \n",
    "            text = unicodedata.normalize('NFC', text)\n",
    "            # Add escaping for vowels to work with LaTeX\n",
    "            text = ''.join([escapingDict.get(char, char) for char in text])\n",
    "            row_text += text + ' & '\n",
    "\n",
    "        row_text = row_text[:-3] + ' \\\\\\\\ \\n\\\\hline'\n",
    "        f.write(row_text + '\\n')\n",
    "\n",
    "print('Table created in data/table.tex')\n"
   ]
  }
 ],
 "metadata": {
  "kernelspec": {
   "display_name": "Python 3",
   "language": "python",
   "name": "python3"
  },
  "language_info": {
   "codemirror_mode": {
    "name": "ipython",
    "version": 3
   },
   "file_extension": ".py",
   "mimetype": "text/x-python",
   "name": "python",
   "nbconvert_exporter": "python",
   "pygments_lexer": "ipython3",
   "version": "3.12.4"
  }
 },
 "nbformat": 4,
 "nbformat_minor": 2
}
