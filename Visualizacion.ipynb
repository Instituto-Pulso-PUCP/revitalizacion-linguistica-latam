{
 "cells": [
  {
   "cell_type": "code",
   "execution_count": null,
   "metadata": {},
   "outputs": [],
   "source": [
    "# import libraries\n",
    "import pandas as pd\n",
    "import numpy as np\n",
    "import matplotlib.pyplot as plt\n",
    "import seaborn as sns"
   ]
  },
  {
   "cell_type": "markdown",
   "metadata": {},
   "source": [
    "# Data and parameters to use"
   ]
  },
  {
   "cell_type": "code",
   "execution_count": null,
   "metadata": {},
   "outputs": [],
   "source": [
    "# Read in the data\n",
    "df_projects = pd.read_csv('data/projectList.csv')\n",
    "# Drop Title, ArticleURL columns\n",
    "df_projects.drop(['Title', 'ArticleURL'], axis=1, inplace=True)\n",
    "df_projects.head()"
   ]
  },
  {
   "cell_type": "code",
   "execution_count": null,
   "metadata": {},
   "outputs": [],
   "source": [
    "# Function to get the number of projects by year\n",
    "def get_projects_by_year(df_filtered):\n",
    "    df_projects_year=df_filtered.copy(deep=True)\n",
    "    df_projects_year.drop(['Family', 'Language', 'glottocode', 'isocode', 'Speakers'], axis=1, inplace=True)\n",
    "    df_projects_year.drop_duplicates(inplace=True)\n",
    "    df_projects_year=df_projects_year.groupby(['Year']).agg({'Project':'count', 'Cinema/TV':'sum', 'Social media':'sum', 'Radio':'sum', 'Music':'sum', 'Technology':'sum', 'Teaches the language':'sum', 'State initiative':'sum', 'External organization':'sum', 'Universities and institutes':'sum', 'Alternative projects from the community':'sum', 'Documentation': 'sum', 'Books and educative material': 'sum', 'Promotes use of the language': 'sum'}).reset_index().drop_duplicates()\n",
    "    return df_projects_year"
   ]
  },
  {
   "cell_type": "code",
   "execution_count": null,
   "metadata": {},
   "outputs": [],
   "source": [
    "# Function to get the number of projects by country\n",
    "def get_projects_by_country():\n",
    "    df_project_by_country=df_projects.copy(deep=True)\n",
    "    df_project_by_country[\"nLanguages\"] = df_project_by_country.groupby(\"Project\")[\"Language\"].transform(\"nunique\")\n",
    "    df_project_by_country.drop(['Family', 'Language', 'glottocode', 'isocode','Speakers'], axis=1, inplace=True)\n",
    "    df_project_by_country.drop_duplicates(inplace=True)\n",
    "    return df_project_by_country"
   ]
  },
  {
   "cell_type": "code",
   "execution_count": null,
   "metadata": {},
   "outputs": [],
   "source": [
    "# Define the list of columns to filter\n",
    "origin_columns = ['State initiative', 'External organization', 'Universities and institutes', 'Alternative projects from the community']\n",
    "characteristics_columns = [\"Cinema/TV\", \"Social media\", \"Radio\", \"Music\", \"Technology\", \"Teaches the language\", \"Documentation\", \"Books and educative material\"]"
   ]
  },
  {
   "cell_type": "markdown",
   "metadata": {},
   "source": [
    "## sns configuration"
   ]
  },
  {
   "cell_type": "code",
   "execution_count": null,
   "metadata": {},
   "outputs": [],
   "source": [
    "# Set the style of the plots\n",
    "sns.set_style(\"darkgrid\")\n",
    "\n",
    "# Define the color palette\n",
    "color_palette = sns.color_palette(\"husl\", 4)\n",
    "\n",
    "# Define a color for each category using Seaborn's color palette\n",
    "color_dict = {\n",
    "    'State initiative': sns.color_palette(\"husl\", 4)[0],\n",
    "    'External organization': sns.color_palette(\"husl\", 4)[1],\n",
    "    'Universities and institutes': sns.color_palette(\"husl\", 4)[2],\n",
    "    'Alternative projects from the community': sns.color_palette(\"husl\", 4)[3]\n",
    "}\n",
    "\n",
    "# Set the global parameters for the plots\n",
    "plt.rcParams['axes.labelsize'] = 12\n",
    "plt.rcParams['axes.labelweight'] = 'light'\n",
    "plt.rcParams['axes.titlesize'] = 14\n",
    "plt.rcParams['axes.titleweight'] = 'light'"
   ]
  },
  {
   "cell_type": "markdown",
   "metadata": {},
   "source": [
    "# Plots"
   ]
  },
  {
   "cell_type": "markdown",
   "metadata": {},
   "source": [
    "## Projects by year and origin"
   ]
  },
  {
   "cell_type": "code",
   "execution_count": null,
   "metadata": {},
   "outputs": [],
   "source": [
    "# Get the number of projects by year\n",
    "df = get_projects_by_year(df_projects)\n",
    "\n",
    "# Melt the DataFrame into a long format\n",
    "df_melted = pd.melt(df, id_vars='Year', value_vars=origin_columns)\n",
    "\n",
    "# Plot the data\n",
    "plt.figure(figsize=(16, 8))\n",
    "sns.barplot(data=df_melted, x='Year', y='value', hue='variable', palette=color_dict)\n",
    "plt.title('Number of Projects by Year and Origin')\n",
    "plt.ylabel('Number of projects')\n",
    "plt.xlabel('Year')\n",
    "plt.legend(title='Origin')\n",
    "plt.savefig('images/number_of_projects_by_year_and_origin.png', dpi=300, bbox_inches='tight')\n",
    "plt.show()"
   ]
  },
  {
   "cell_type": "markdown",
   "metadata": {},
   "source": [
    "## Top 30 languages with most projects"
   ]
  },
  {
   "cell_type": "code",
   "execution_count": null,
   "metadata": {},
   "outputs": [],
   "source": [
    "# Group by 'Lengua', count, reset index, and sort\n",
    "df_grouped = df_projects.groupby('Language').count().reset_index().sort_values(by='Project', ascending=False)\n",
    "\n",
    "# Filter to include only the top 30 languages\n",
    "df_filtered = df_grouped[0:30]\n",
    "\n",
    "# Plot the data\n",
    "plt.figure(figsize=(16, 8))\n",
    "plt.bar(df_filtered['Language'], df_filtered['Project'], color=\"#377eb8\", width=0.85)\n",
    "plt.xlabel('Language')\n",
    "plt.ylabel('Number of Projects')\n",
    "plt.xticks(rotation='vertical')\n",
    "plt.title('Top 30 Languages with Most Projects')\n",
    "\n",
    "# Adjust the x-axis limits\n",
    "plt.xlim(-0.8, len(df_filtered['Language'])-0.2)\n",
    "# Keep only horizontal grid lines\n",
    "plt.grid(axis='x')\n",
    "\n",
    "plt.savefig('images/top_30_languages_with_most_projects.png', dpi=300, bbox_inches='tight')\n",
    "plt.show()"
   ]
  },
  {
   "cell_type": "markdown",
   "metadata": {},
   "source": [
    "## Projects by country"
   ]
  },
  {
   "cell_type": "code",
   "execution_count": null,
   "metadata": {},
   "outputs": [],
   "source": [
    "df_projects_country = get_projects_by_country()\n",
    "# Group the data, count the projects, reset the index, and sort the values\n",
    "df_grouped = df_projects_country.groupby('Country').count().reset_index().sort_values(by='Project', ascending=False)\n",
    "\n",
    "# Plot the data\n",
    "plt.figure(figsize=(16, 9))\n",
    "bars = plt.bar(df_grouped['Country'], df_grouped['Project'], color=\"#377eb8\", width=0.85)\n",
    "\n",
    "# Add the number values on top of the bars\n",
    "for bar in bars:\n",
    "    yval = bar.get_height()\n",
    "    plt.text(bar.get_x() + bar.get_width()/2, yval + 0.05, yval, ha='center', va='bottom')\n",
    "\n",
    "# Remove the y-axis\n",
    "plt.yticks([])\n",
    "# Keep only horizontal grid lines\n",
    "plt.grid(axis='x')\n",
    "\n",
    "# Adjust the x-axis limits\n",
    "plt.xlim(-0.8, len(df_grouped['Country'])-0.2)\n",
    "\n",
    "# Add labels and title\n",
    "plt.xlabel('Country')\n",
    "plt.ylabel('Number of Projects')\n",
    "plt.xticks(rotation='vertical')\n",
    "plt.title('Number of Projects by Country')\n",
    "plt.savefig('images/number_of_projects_by_country.png', dpi=300, bbox_inches='tight')\n",
    "plt.show()\n"
   ]
  },
  {
   "cell_type": "markdown",
   "metadata": {},
   "source": [
    "## Projects by country and origin"
   ]
  },
  {
   "cell_type": "code",
   "execution_count": null,
   "metadata": {},
   "outputs": [],
   "source": [
    "df_projects_country = get_projects_by_country()\n",
    "# Group the data, count the projects, reset the index, and sort the values\n",
    "df_grouped = df_projects_country.groupby('Country').agg({\n",
    "    'Project': 'count',\n",
    "    'State initiative': 'sum',\n",
    "    'External organization': 'sum',\n",
    "    'Universities and institutes': 'sum',\n",
    "    'Alternative projects from the community': 'sum'\n",
    "}).reset_index().sort_values(by='Project', ascending=False)\n",
    "\n",
    "\n",
    "top_9 = df_grouped.head(8)\n",
    "df_melted = top_9.melt(id_vars='Country', value_vars=['State initiative', 'External organization', 'Universities and institutes', 'Alternative projects from the community'], var_name='Origin', value_name='Number of Projects')\n",
    "\n",
    "# Create the catplot\n",
    "g = sns.catplot(\n",
    "    x='Number of Projects', \n",
    "    y='Origin', \n",
    "    hue='Origin', \n",
    "    data=df_melted, \n",
    "    kind='bar', \n",
    "    height=4, \n",
    "    aspect=1, \n",
    "    palette=color_dict,\n",
    "    col_wrap=4,\n",
    "    col='Country',\n",
    "    sharey=True,\n",
    "    orient='h',\n",
    "    color='#377eb8',\n",
    "    formatter= #Si es \"Alternative projects from the community\" entonces poner un salto de línea\n",
    "    lambda x: \"\",\n",
    "    legend=True\n",
    ")\n",
    "\n",
    "\n",
    "# Set the title for the entire plot\n",
    "g.figure.suptitle('Number of Projects by Country and Origin', fontsize=16, y=1.02)\n",
    "g.set_titles('{col_name}')\n",
    "g.set_axis_labels('' ,'')\n",
    "\n",
    "# g.legend.set_bbox_to_anchor((0.5, -0.1))\n",
    "# g.legend.set_loc('center')\n",
    "g.legend.set_ncols(4)  # \n",
    "g.legend.set_\n",
    "# Save the plot\n",
    "g.savefig('images/number_of_projects_by_country_and_origin.png', dpi=300, bbox_inches='tight')\n",
    "plt.show()\n"
   ]
  },
  {
   "cell_type": "markdown",
   "metadata": {},
   "source": [
    "## Correlation between number of speakers and number of projects"
   ]
  },
  {
   "cell_type": "code",
   "execution_count": null,
   "metadata": {},
   "outputs": [],
   "source": [
    "import plotly.express as px\n",
    "\n",
    "# Prepare the data\n",
    "#Exclude \"Quechuan\" and \"Paraguayan Guarani\" because they are outliers\n",
    "df = df_projects.copy(deep=True)\n",
    "df = df_projects[df_projects['Language'] != 'Quechuan']\n",
    "df = df[df['Language'] != 'Paraguayan Guaraní']\n",
    "df = df.groupby('Language').agg({'Speakers':'first', 'Project':'count', 'Family':'first', 'Country':'first', 'State initiative':'sum', 'External organization':'sum', 'Universities and institutes':'sum', 'Alternative projects from the community':'sum'}).reset_index()\n",
    "\n",
    "df['Adjusted Project'] = df['Project']+2\n",
    "\n",
    "# Create the correlation plot\n",
    "fig = px.scatter(df, x='Speakers', y='Project', size='Adjusted Project', color='Family', hover_data=['Language', 'Project'], height=800, size_max=40, title='Correlation between number of speakers and number of projects')\n",
    "\n",
    "#Find regression line\n",
    "import plotly.graph_objects as go\n",
    "import numpy as np\n",
    "from sklearn.linear_model import LinearRegression\n",
    "\n",
    "# Prepare the data for the regression model\n",
    "X = df['Speakers'].values.reshape(-1, 1)\n",
    "\n",
    "y = df['Project'].values\n",
    "\n",
    "# Create a linear regression model\n",
    "model = LinearRegression()\n",
    "model.fit(X, y)\n",
    "\n",
    "# Predict y values\n",
    "y_pred = model.predict(X)\n",
    "\n",
    "# Print the R^2 value\n",
    "print('R^2:', model.score(X, y))\n",
    "\n",
    "# Create a trace for the regression line\n",
    "trace = go.Scatter(x=df['Speakers'], y=y_pred, mode='lines', name='Regression Line')\n",
    "\n",
    "# Add the regression line to the plot\n",
    "fig.add_trace(trace)\n",
    "\n",
    "#Rename the legend title \n",
    "fig.update_layout(legend_title_text='Language Family')\n",
    "\n",
    "#Rename the axes\n",
    "fig.update_xaxes(title_text='Number of Speakers')\n",
    "fig.update_yaxes(title_text='Number of Projects')\n",
    "\n",
    "#Hide the legend\n",
    "fig.update_layout(showlegend=False)\n",
    "\n",
    "#Write the name of the language in the circle for the 11 languages with the most projects\n",
    "top_11 = df.nlargest(11, 'Project')\n",
    "for i in range(11):\n",
    "    fig.add_annotation(x=top_11.iloc[i]['Speakers'], y=top_11.iloc[i]['Project'], text=top_11.iloc[i]['Language'], showarrow=True, arrowhead=2,\n",
    "                       yshift=5)\n",
    "\n",
    "# Show the plot\n",
    "fig.show()"
   ]
  },
  {
   "cell_type": "markdown",
   "metadata": {},
   "source": [
    "## Projects by year and characteristic"
   ]
  },
  {
   "cell_type": "code",
   "execution_count": null,
   "metadata": {},
   "outputs": [],
   "source": [
    "df = get_projects_by_year(df_projects)\n",
    "df_melted = df.melt(id_vars='Year', value_vars=characteristics_columns, var_name='Characteristic', value_name='Number of Projects')\n",
    "\n",
    "# Create the catplot\n",
    "g = sns.catplot(x='Number of Projects', y='Year', col='Characteristic', data=df_melted, kind='bar', col_wrap=4, height=4, aspect=1, sharey=True, orient='h', color='#377eb8')\n",
    "\n",
    "# Set the titles for each subplot\n",
    "g.set_titles(\"{col_name}\")\n",
    "\n",
    "# Set the labels for the x and y axes\n",
    "g.set_axis_labels(\"\", \"Year\")\n",
    "\n",
    "# Set the title for the entire plot\n",
    "g.figure.suptitle('Number of projects by year and characteristic', fontsize=16, y=1.05)\n",
    "\n",
    "# Save the plot\n",
    "g.savefig('images/number_of_projects_by_year_and_characteristic.png', dpi=300, bbox_inches='tight')\n",
    "plt.show()"
   ]
  },
  {
   "cell_type": "markdown",
   "metadata": {},
   "source": [
    "## Number of projects and their origin through the years"
   ]
  },
  {
   "cell_type": "code",
   "execution_count": null,
   "metadata": {},
   "outputs": [],
   "source": [
    "df = get_projects_by_year(df_projects)\n",
    "\n",
    "# Melt the DataFrame into a long format\n",
    "df_melted = pd.melt(df, id_vars='Year', value_vars=origin_columns)\n",
    "\n",
    "# Plot the data\n",
    "plt.figure(figsize=(16, 8))\n",
    "sns.lineplot(data=df_melted, x='Year', y='value', hue='variable', palette=color_dict)\n",
    "plt.title('Number of Projects by Year and Origin over Time')\n",
    "plt.ylabel('Number of projects')\n",
    "plt.xlabel('Year')\n",
    "plt.legend(title='Origin')\n",
    "\n",
    "# Set xticks\n",
    "plt.xticks(np.arange(min(df['Year']), max(df['Year'])+1, 1))\n",
    "\n",
    "plt.savefig('images/number_of_projects_by_year_and_origin_over_time.png', dpi=300, bbox_inches='tight')\n",
    "plt.show()"
   ]
  },
  {
   "cell_type": "markdown",
   "metadata": {},
   "source": [
    "## Proportion of projects by origin per 5 years"
   ]
  },
  {
   "cell_type": "code",
   "execution_count": null,
   "metadata": {},
   "outputs": [],
   "source": [
    "df_projects_by_year=get_projects_by_year(df_projects)\n",
    "df_projects_by_year.set_index('Year', inplace=True)\n",
    "df_projects_by_year = df_projects_by_year[origin_columns]\n",
    "\n",
    "# Create the subplots\n",
    "fig, axs = plt.subplots(1, 3, figsize=(20, 6))\n",
    "fig.suptitle('Project counts by origin each five years', fontsize=16)\n",
    "\n",
    "for i, ax in enumerate(axs.flat):\n",
    "    start = 2007+(i)*5\n",
    "    end = start+5\n",
    "    # Get the sum of projects by origin for the given period\n",
    "    data = df_projects_by_year.loc[start:end-1].sum()\n",
    "    # Create the pie chart\n",
    "    patches, texts, autotexts = ax.pie(data, autopct=lambda p: '{:.0f}'.format(p * sum(data) / 100), colors=color_palette, textprops={'color':\"w\", 'weight':'bold', 'fontsize':14})\n",
    "    # Set the title for the subplot\n",
    "    ax.set_title(f'From {start} to {end-1}')\n",
    "\n",
    "# Create the legend\n",
    "fig.legend(patches, data.index, loc=\"lower center\", ncol=4)\n",
    "plt.subplots_adjust(right=0.85)  # Adjust the right padding to make room for the legend\n",
    "\n",
    "plt.savefig('images/project_counts_by_origin_each_five_years.png', dpi=300, bbox_inches='tight')\n",
    "plt.show()"
   ]
  }
 ],
 "metadata": {
  "kernelspec": {
   "display_name": "Python 3",
   "language": "python",
   "name": "python3"
  },
  "language_info": {
   "codemirror_mode": {
    "name": "ipython",
    "version": 3
   },
   "file_extension": ".py",
   "mimetype": "text/x-python",
   "name": "python",
   "nbconvert_exporter": "python",
   "pygments_lexer": "ipython3",
   "version": "3.12.4"
  }
 },
 "nbformat": 4,
 "nbformat_minor": 2
}
